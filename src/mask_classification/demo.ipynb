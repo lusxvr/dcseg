{
 "cells": [
  {
   "cell_type": "markdown",
   "metadata": {},
   "source": [
    "## Demo Notebook: How to classify proposed class-agnostic masks"
   ]
  },
  {
   "cell_type": "markdown",
   "metadata": {},
   "source": [
    "### Mask Classification using OVSeg + Assignment\n",
    "Throughout our experiments, we observed that this is the most powerful method for assigning class labels to masks."
   ]
  },
  {
   "cell_type": "code",
   "execution_count": null,
   "metadata": {},
   "outputs": [],
   "source": [
    "import os\n",
    "import sys\n",
    "parent_dir = os.path.abspath(os.path.join(os.getcwd(), '..'))\n",
    "sys.path.insert(0, parent_dir)\n",
    "\n",
    "from assignment_classifier.assignment_classifier import AssignmentClassifier\n",
    "import files\n",
    "from utils.types import AwarePredictionType\n",
    "\n",
    "SCENE_ID = \"scene0003_00\" # required to correctly set up paths\n",
    "DATASET = \"scannet\" # required to correctly load class names\n",
    "\n",
    "img_src = files.SCANNET_IMAGES_PATH.format(SCENE_ID)\n",
    "agnostic_mask_dir = files.SAGA_MASKS_OUT_PATH.format(SCENE_ID)\n",
    "aware_mask_dir = files.OVSEG_MASKS_OUT_PATH.format(SCENE_ID)\n",
    "\n",
    "classifier = AssignmentClassifier(image_source=img_src, agnostic_mask_directory=agnostic_mask_dir, aware_mask_directory=aware_mask_dir)\n",
    "classifier.predict_aware_masks(dataset=DATASET, prediction_type=AwarePredictionType.OVSEG)\n",
    "classifier.get_assignments(dataset=DATASET, scene_id=SCENE_ID, prediction_type=AwarePredictionType.OVSEG)"
   ]
  }
 ],
 "metadata": {
  "kernelspec": {
   "display_name": "dcseg",
   "language": "python",
   "name": "python3"
  },
  "language_info": {
   "codemirror_mode": {
    "name": "ipython",
    "version": 3
   },
   "file_extension": ".py",
   "mimetype": "text/x-python",
   "name": "python",
   "nbconvert_exporter": "python",
   "pygments_lexer": "ipython3",
   "version": "3.9.19"
  }
 },
 "nbformat": 4,
 "nbformat_minor": 2
}
