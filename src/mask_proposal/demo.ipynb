{
 "cells": [
  {
   "cell_type": "markdown",
   "metadata": {},
   "source": [
    "## Demo Notebook: How to propose class-agnostic masks\n",
    "As mentioned in our paper, the semantic segmentation pipeline is divided into two stages: mask proposal and mask classification. In this notebook, we will demonstrate mask proposal using SAGA (Segment Any GAussians) masks. If you want to implement your own mask proposal network, it is important to understand inputs and outputs.\n",
    "- **Input**: A file path to a folder containing `.jpg`-files taken from different angles and locations of the same 3D scene\n",
    "- **Expected Output**: `.pt` or `.pickle`-files that are stored in the specified output folder. There should be one file for every single image. "
   ]
  },
  {
   "cell_type": "markdown",
   "metadata": {},
   "source": [
    "### Mask Proposal using Segment Any GAussians (SAGA) masks\n",
    "If you already have a Gaussian Splatting 3D reconstruction, you can use it for the SAGA masks. It is important that the folder has the following structure:\n",
    "```\n",
    "<gaussian_splatting_path>\n",
    "|-- cameras.json\n",
    "|-- cfg_args.txt\n",
    "|-- input.ply\n",
    "|-- point_cloud\n",
    "|---- iteration_30000\n",
    "|------ scene_point_cloud.ply\n",
    "```"
   ]
  },
  {
   "cell_type": "code",
   "execution_count": null,
   "metadata": {},
   "outputs": [],
   "source": [
    "import os\n",
    "import sys\n",
    "\n",
    "# append parent directory to import files.py\n",
    "parent_dir = os.path.abspath(os.path.join(os.getcwd(), '..'))\n",
    "sys.path.insert(0, parent_dir)\n",
    "\n",
    "import files\n",
    "from saga_seg.saga_proposer import SagaMaskProposer\n",
    "\n",
    "SCENE_ID = \"scene0003_00\"\n",
    "img_source = files.SCANNET_IMAGES_PATH.format(SCENE_ID)\n",
    "agnostic_mask_directory = files.SAGA_MASKS_OUT_PATH.format(SCENE_ID)\n",
    "gaussian_splatting_path = files.GS_OUT_PATH.format(SCENE_ID)\n",
    "colmap_path = files.COLMAP_PATH.format(\"scannet\", SCENE_ID)\n",
    "\n",
    "proposer = SagaMaskProposer(\n",
    "    image_source=img_source, \n",
    "    agnostic_2dmask_dir=agnostic_mask_directory, \n",
    "    gs_path=gaussian_splatting_path,\n",
    "    colmap_path=colmap_path\n",
    ")"
   ]
  },
  {
   "cell_type": "markdown",
   "metadata": {},
   "source": [
    "Once initialized, we can use the SagaMaskProposer to extract features and SAM Masks. These are necessary to finally get the SAGA masks. "
   ]
  },
  {
   "cell_type": "code",
   "execution_count": null,
   "metadata": {},
   "outputs": [],
   "source": [
    "proposer.get_sam_masks()\n",
    "proposer.extract_features()\n",
    "proposer.propose_masks()"
   ]
  }
 ],
 "metadata": {
  "kernelspec": {
   "display_name": "dcseg",
   "language": "python",
   "name": "python3"
  },
  "language_info": {
   "codemirror_mode": {
    "name": "ipython",
    "version": 3
   },
   "file_extension": ".py",
   "mimetype": "text/x-python",
   "name": "python",
   "nbconvert_exporter": "python",
   "pygments_lexer": "ipython3",
   "version": "3.9.19"
  }
 },
 "nbformat": 4,
 "nbformat_minor": 2
}
